{
 "cells": [
  {
   "cell_type": "code",
   "execution_count": null,
   "metadata": {},
   "outputs": [],
   "source": [
    "import serial\n",
    "from cflib.crazyflie.syncCrazyflie import SyncCrazyflie\n",
    "from cflib.positioning.motion_commander import MotionCommander\n",
    "\n",
    "# 设定无人机的URI\n",
    "URI = 'radio://0/80/2M'\n",
    "\n",
    "# 设置串口\n",
    "PORT = 'COM6'\n",
    "BAUDRATE = 9600\n",
    "\n",
    "def read_switch(serial_connection):\n",
    "    \"\"\"\n",
    "    从串口读取数据\n",
    "    \"\"\"\n",
    "    if serial_connection.in_waiting > 0:\n",
    "        line = serial_connection.readline().decode().strip()\n",
    "        return line\n",
    "    return None\n",
    "\n",
    "def main():\n",
    "    # 初始化串口连接\n",
    "    ser = serial.Serial(PORT, BAUDRATE, timeout=1)\n",
    "\n",
    "    # 使用SyncCrazyflie来管理无人机的连接\n",
    "    with SyncCrazyflie(URI) as scf:\n",
    "        with MotionCommander(scf) as mc:\n",
    "            while True:\n",
    "                switch_state = read_switch(ser)\n",
    "                if switch_state is not None:\n",
    "                    if switch_state == '1':\n",
    "                        print(\"前进1米\")\n",
    "                        mc.forward(1)\n",
    "                    elif switch_state == '0':\n",
    "                        print(\"悬停\")\n",
    "                        mc.stop()\n",
    "                else:\n",
    "                    print(\"等待开关状态...\")\n",
    "\n",
    "# 如果是直接运行本文件，则执行main函数\n",
    "if __name__ == '__main__':\n",
    "    main()\n"
   ]
  }
 ],
 "metadata": {
  "kernelspec": {
   "display_name": "Python 3",
   "language": "python",
   "name": "python3"
  },
  "language_info": {
   "name": "python",
   "version": "3.10.13"
  }
 },
 "nbformat": 4,
 "nbformat_minor": 2
}
